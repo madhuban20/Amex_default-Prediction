{
 "cells": [
  {
   "cell_type": "markdown",
   "id": "3e9a4ea7",
   "metadata": {
    "papermill": {
     "duration": 0.0295,
     "end_time": "2022-07-22T11:52:30.589291",
     "exception": false,
     "start_time": "2022-07-22T11:52:30.559791",
     "status": "completed"
    },
    "tags": []
   },
   "source": [
    "The following steps were followed to create the final submission file \n",
    "This model was build on RandomForest classifier reading data from the csv files give in the competition\n",
    "\n",
    "Step1: Read the train_data.csv with chunk_size=5lakh\n",
    "\n",
    "Step2: create individual files for each chunk,12 such files were generated\n",
    "\n",
    "step3: Checked individual dataframes for columns with more than 40% missing values\n",
    "\n",
    "Step4. All the 12 dataframes have same columns for missing values\n",
    "\n",
    "step5. Checked individual dataframes for columns with correlations coeff.75\n",
    "\n",
    "step6. same columns were found in all 12 dataframes for correlation coeff .75\n",
    "\n",
    "step7. Hence selected one  dataframe and deleted the above columns\n",
    "\n",
    "step8. Filled nan values with bfill,ffill\n",
    "\n",
    "step9. Build the model with randomn forest as this gave a better amex_metric\n",
    "\n",
    "step10. Read the test_data.csv with chunk_size=5lak\n",
    "\n",
    "step11. followed steps for data imputation as train data\n",
    "\n",
    "step12.predicted submitted the file\n",
    "\n",
    "step13.The following procedure gave an amex_metric .477\n",
    "\n"
   ]
  },
  {
   "cell_type": "code",
   "execution_count": 1,
   "id": "ecc525d7",
   "metadata": {
    "execution": {
     "iopub.execute_input": "2022-07-22T11:52:30.630150Z",
     "iopub.status.busy": "2022-07-22T11:52:30.629713Z",
     "iopub.status.idle": "2022-07-22T11:52:32.350360Z",
     "shell.execute_reply": "2022-07-22T11:52:32.348988Z"
    },
    "papermill": {
     "duration": 1.744047,
     "end_time": "2022-07-22T11:52:32.353260",
     "exception": false,
     "start_time": "2022-07-22T11:52:30.609213",
     "status": "completed"
    },
    "tags": []
   },
   "outputs": [],
   "source": [
    "#-------------------------------------------------------------------------------------------------------------------------------\n",
    "import pandas as pd                                                 # Importing for panel data analysis\n",
    "#from pandas_profiling import ProfileReport                          # Import Pandas Profiling (To generate Univariate Analysis)\n",
    "\n",
    "pd.set_option('display.max_columns', None)                          # Unfolding hidden features if the cardinality is high      \n",
    "pd.set_option('display.max_colwidth', None)                         # Unfolding the max feature width for better clearity      \n",
    "pd.set_option('display.max_rows', None)                             # Unfolding hidden data points if the cardinality is high\n",
    "pd.set_option('mode.chained_assignment', None)                      # Removing restriction over chained assignments operations\n",
    "pd.set_option('display.float_format', lambda x: '%.5f' % x)         # To suppress scientific notation over exponential values\n",
    "#-------------------------------------------------------------------------------------------------------------------------------\n",
    "import numpy as np                                                  # Importing package numpys (For Numerical Python)\n",
    "#-------------------------------------------------------------------------------------------------------------------------------\n",
    "import matplotlib.pyplot as plt                                     # Importing pyplot interface using matplotlib\n",
    "from matplotlib.pylab import rcParams                               # Backend used for rendering and GUI integration                                               \n",
    "import seaborn as sns                                               # Importin seaborm library for interactive visualization\n",
    "%matplotlib inline\n",
    "#-------------------------------------------------------------------------------------------------------------------------------\n",
    "from sklearn.metrics import accuracy_score                          # For calculating the accuracy for the model\n",
    "from sklearn.metrics import precision_score                         # For calculating the Precision of the model\n",
    "from sklearn.metrics import recall_score                            # For calculating the recall of the model\n",
    "from sklearn.metrics import precision_recall_curve                  # For precision and recall metric estimation\n",
    "from sklearn.metrics import confusion_matrix                        # For verifying model performance using confusion matrix\n",
    "from sklearn.metrics import f1_score                                # For Checking the F1-Score of our model  \n",
    "from sklearn.metrics import roc_curve                               # For Roc-Auc metric estimation\n",
    "#-------------------------------------------------------------------------------------------------------------------------------\n",
    "from sklearn.model_selection import train_test_split                # To split the data in training and testing part     \n",
    "from sklearn.linear_model import LogisticRegression                 # To create the Logistic Regression Model\n",
    "from sklearn.ensemble import RandomForestClassifier, GradientBoostingClassifier\n",
    "from sklearn.metrics import confusion_matrix,classification_report\n",
    "from sklearn.model_selection import cross_val_score\n",
    "#-------------------------------------------------------------------------------------------------------------------------------\n",
    "import warnings                                                     # Importing warning to disable runtime warnings\n",
    "warnings.filterwarnings(\"ignore\")                                   # Warnings will appear only once\n"
   ]
  },
  {
   "cell_type": "code",
   "execution_count": 2,
   "id": "b9eb424f",
   "metadata": {
    "execution": {
     "iopub.execute_input": "2022-07-22T11:52:32.392387Z",
     "iopub.status.busy": "2022-07-22T11:52:32.391988Z",
     "iopub.status.idle": "2022-07-22T11:52:32.399974Z",
     "shell.execute_reply": "2022-07-22T11:52:32.398755Z"
    },
    "papermill": {
     "duration": 0.029271,
     "end_time": "2022-07-22T11:52:32.402147",
     "exception": false,
     "start_time": "2022-07-22T11:52:32.372876",
     "status": "completed"
    },
    "tags": []
   },
   "outputs": [],
   "source": [
    "# Create correlation matrix\n",
    "to_drop=[]\n",
    "import numpy as np\n",
    "def drop_corr_columns(df,i):\n",
    "\n",
    "    corr_matrix = df.corr().abs()\n",
    "\n",
    "# Select upper triangle of correlation matrix\n",
    "    upper = corr_matrix.where(np.triu(np.ones(corr_matrix.shape), k=1).astype(np.bool))\n",
    "\n",
    "# Find index of feature columns with correlatgc.collect()ion greater than 0.95\n",
    "    to_drop = [column for column in upper.columns if any(upper[column] > 0.7)]\n",
    "    print('columns to drop in ',{i},'dataset',to_drop)\n",
    "    df1.drop(axis=1,columns= to_drop,inplace=True)\n",
    "   "
   ]
  },
  {
   "cell_type": "code",
   "execution_count": 3,
   "id": "80744339",
   "metadata": {
    "execution": {
     "iopub.execute_input": "2022-07-22T11:52:32.440007Z",
     "iopub.status.busy": "2022-07-22T11:52:32.439587Z",
     "iopub.status.idle": "2022-07-22T11:53:07.926803Z",
     "shell.execute_reply": "2022-07-22T11:53:07.925555Z"
    },
    "papermill": {
     "duration": 35.509164,
     "end_time": "2022-07-22T11:53:07.929722",
     "exception": false,
     "start_time": "2022-07-22T11:52:32.420558",
     "status": "completed"
    },
    "tags": []
   },
   "outputs": [],
   "source": [
    "#Reading dataset with 500000 rows\n",
    "\n",
    "df=pd.read_csv('../input/amex-reading-data/data1.csv')\n",
    "\n"
   ]
  },
  {
   "cell_type": "code",
   "execution_count": 4,
   "id": "81e397ee",
   "metadata": {
    "execution": {
     "iopub.execute_input": "2022-07-22T11:53:07.966836Z",
     "iopub.status.busy": "2022-07-22T11:53:07.966434Z",
     "iopub.status.idle": "2022-07-22T11:53:08.797154Z",
     "shell.execute_reply": "2022-07-22T11:53:08.796006Z"
    },
    "papermill": {
     "duration": 0.852591,
     "end_time": "2022-07-22T11:53:08.800046",
     "exception": false,
     "start_time": "2022-07-22T11:53:07.947455",
     "status": "completed"
    },
    "tags": []
   },
   "outputs": [],
   "source": [
    "df_target=pd.read_csv('../input/amex-default-prediction/train_labels.csv')"
   ]
  },
  {
   "cell_type": "code",
   "execution_count": 5,
   "id": "d07f2bb0",
   "metadata": {
    "execution": {
     "iopub.execute_input": "2022-07-22T11:53:08.837477Z",
     "iopub.status.busy": "2022-07-22T11:53:08.837095Z",
     "iopub.status.idle": "2022-07-22T11:53:10.277488Z",
     "shell.execute_reply": "2022-07-22T11:53:10.276228Z"
    },
    "papermill": {
     "duration": 1.462877,
     "end_time": "2022-07-22T11:53:10.280325",
     "exception": false,
     "start_time": "2022-07-22T11:53:08.817448",
     "status": "completed"
    },
    "tags": []
   },
   "outputs": [],
   "source": [
    "df1=pd.merge(df,df_target,on='customer_ID',how='inner')"
   ]
  },
  {
   "cell_type": "code",
   "execution_count": 6,
   "id": "9953cad1",
   "metadata": {
    "execution": {
     "iopub.execute_input": "2022-07-22T11:53:10.317103Z",
     "iopub.status.busy": "2022-07-22T11:53:10.316702Z",
     "iopub.status.idle": "2022-07-22T11:53:10.714444Z",
     "shell.execute_reply": "2022-07-22T11:53:10.713406Z"
    },
    "papermill": {
     "duration": 0.41916,
     "end_time": "2022-07-22T11:53:10.716968",
     "exception": false,
     "start_time": "2022-07-22T11:53:10.297808",
     "status": "completed"
    },
    "tags": []
   },
   "outputs": [],
   "source": [
    "list_miss=df1.isnull().sum()/len(df1)"
   ]
  },
  {
   "cell_type": "code",
   "execution_count": 7,
   "id": "577ef5a1",
   "metadata": {
    "execution": {
     "iopub.execute_input": "2022-07-22T11:53:10.754960Z",
     "iopub.status.busy": "2022-07-22T11:53:10.754296Z",
     "iopub.status.idle": "2022-07-22T11:53:10.759931Z",
     "shell.execute_reply": "2022-07-22T11:53:10.759139Z"
    },
    "papermill": {
     "duration": 0.027782,
     "end_time": "2022-07-22T11:53:10.762067",
     "exception": false,
     "start_time": "2022-07-22T11:53:10.734285",
     "status": "completed"
    },
    "tags": []
   },
   "outputs": [],
   "source": [
    "#finding columns with more than 40% missing values\n",
    "list_missing=[]\n",
    "for i in range(len(list_miss)):\n",
    "    if list_miss[i]>0.4 :\n",
    "        list_missing.append(list_miss.index[i])"
   ]
  },
  {
   "cell_type": "code",
   "execution_count": 8,
   "id": "2342d82a",
   "metadata": {
    "execution": {
     "iopub.execute_input": "2022-07-22T11:53:10.799207Z",
     "iopub.status.busy": "2022-07-22T11:53:10.798338Z",
     "iopub.status.idle": "2022-07-22T11:53:10.807229Z",
     "shell.execute_reply": "2022-07-22T11:53:10.806305Z"
    },
    "papermill": {
     "duration": 0.029997,
     "end_time": "2022-07-22T11:53:10.809535",
     "exception": false,
     "start_time": "2022-07-22T11:53:10.779538",
     "status": "completed"
    },
    "tags": []
   },
   "outputs": [
    {
     "data": {
      "text/plain": [
       "['D_42',\n",
       " 'D_49',\n",
       " 'D_50',\n",
       " 'D_53',\n",
       " 'D_56',\n",
       " 'S_9',\n",
       " 'B_17',\n",
       " 'D_66',\n",
       " 'D_73',\n",
       " 'D_76',\n",
       " 'D_77',\n",
       " 'R_9',\n",
       " 'D_82',\n",
       " 'B_29',\n",
       " 'D_87',\n",
       " 'D_88',\n",
       " 'D_105',\n",
       " 'D_106',\n",
       " 'R_26',\n",
       " 'D_108',\n",
       " 'D_110',\n",
       " 'D_111',\n",
       " 'B_39',\n",
       " 'B_42',\n",
       " 'D_132',\n",
       " 'D_134',\n",
       " 'D_135',\n",
       " 'D_136',\n",
       " 'D_137',\n",
       " 'D_138',\n",
       " 'D_142']"
      ]
     },
     "execution_count": 8,
     "metadata": {},
     "output_type": "execute_result"
    }
   ],
   "source": [
    "list_missing"
   ]
  },
  {
   "cell_type": "code",
   "execution_count": 9,
   "id": "528eba25",
   "metadata": {
    "execution": {
     "iopub.execute_input": "2022-07-22T11:53:10.847407Z",
     "iopub.status.busy": "2022-07-22T11:53:10.847026Z",
     "iopub.status.idle": "2022-07-22T11:53:11.627718Z",
     "shell.execute_reply": "2022-07-22T11:53:11.625979Z"
    },
    "papermill": {
     "duration": 0.804161,
     "end_time": "2022-07-22T11:53:11.631506",
     "exception": false,
     "start_time": "2022-07-22T11:53:10.827345",
     "status": "completed"
    },
    "tags": []
   },
   "outputs": [],
   "source": [
    "df1.drop(columns=list_missing,inplace=True)"
   ]
  },
  {
   "cell_type": "code",
   "execution_count": 10,
   "id": "a1944e7b",
   "metadata": {
    "execution": {
     "iopub.execute_input": "2022-07-22T11:53:11.685853Z",
     "iopub.status.busy": "2022-07-22T11:53:11.685136Z",
     "iopub.status.idle": "2022-07-22T11:53:45.496956Z",
     "shell.execute_reply": "2022-07-22T11:53:45.495631Z"
    },
    "papermill": {
     "duration": 33.857827,
     "end_time": "2022-07-22T11:53:45.516504",
     "exception": false,
     "start_time": "2022-07-22T11:53:11.658677",
     "status": "completed"
    },
    "tags": []
   },
   "outputs": [
    {
     "name": "stdout",
     "output_type": "stream",
     "text": [
      "columns to drop in  {1} dataset ['B_3', 'D_48', 'B_8', 'B_11', 'R_4', 'S_7', 'D_55', 'B_13', 'D_58', 'D_61', 'B_15', 'B_16', 'B_18', 'B_19', 'B_20', 'B_22', 'S_15', 'B_23', 'D_74', 'D_75', 'R_8', 'S_16', 'B_28', 'B_30', 'R_21', 'B_33', 'S_24', 'D_103', 'D_104', 'D_107', 'B_37', 'B_38', 'D_113', 'D_118', 'D_119', 'D_121', 'D_129', 'D_131', 'D_133', 'D_141', 'D_143']\n"
     ]
    }
   ],
   "source": [
    "drop_corr_columns(df1,1)"
   ]
  },
  {
   "cell_type": "code",
   "execution_count": 11,
   "id": "da52b05c",
   "metadata": {
    "execution": {
     "iopub.execute_input": "2022-07-22T11:53:45.554227Z",
     "iopub.status.busy": "2022-07-22T11:53:45.553756Z",
     "iopub.status.idle": "2022-07-22T11:53:45.560578Z",
     "shell.execute_reply": "2022-07-22T11:53:45.559495Z"
    },
    "papermill": {
     "duration": 0.028299,
     "end_time": "2022-07-22T11:53:45.562803",
     "exception": false,
     "start_time": "2022-07-22T11:53:45.534504",
     "status": "completed"
    },
    "tags": []
   },
   "outputs": [
    {
     "data": {
      "text/plain": [
       "[]"
      ]
     },
     "execution_count": 11,
     "metadata": {},
     "output_type": "execute_result"
    }
   ],
   "source": [
    "to_drop"
   ]
  },
  {
   "cell_type": "code",
   "execution_count": 12,
   "id": "691f3be9",
   "metadata": {
    "execution": {
     "iopub.execute_input": "2022-07-22T11:53:45.602157Z",
     "iopub.status.busy": "2022-07-22T11:53:45.601061Z",
     "iopub.status.idle": "2022-07-22T11:53:45.624309Z",
     "shell.execute_reply": "2022-07-22T11:53:45.623072Z"
    },
    "papermill": {
     "duration": 0.045913,
     "end_time": "2022-07-22T11:53:45.627360",
     "exception": false,
     "start_time": "2022-07-22T11:53:45.581447",
     "status": "completed"
    },
    "tags": []
   },
   "outputs": [
    {
     "name": "stdout",
     "output_type": "stream",
     "text": [
      "<class 'pandas.core.frame.DataFrame'>\n",
      "Int64Index: 500000 entries, 0 to 499999\n",
      "Columns: 120 entries, Unnamed: 0 to target\n",
      "dtypes: float64(113), int64(3), object(4)\n",
      "memory usage: 461.6+ MB\n"
     ]
    }
   ],
   "source": [
    "df1.info()"
   ]
  },
  {
   "cell_type": "code",
   "execution_count": 13,
   "id": "6d387727",
   "metadata": {
    "execution": {
     "iopub.execute_input": "2022-07-22T11:53:45.667369Z",
     "iopub.status.busy": "2022-07-22T11:53:45.666625Z",
     "iopub.status.idle": "2022-07-22T11:53:45.839847Z",
     "shell.execute_reply": "2022-07-22T11:53:45.838606Z"
    },
    "papermill": {
     "duration": 0.195483,
     "end_time": "2022-07-22T11:53:45.842640",
     "exception": false,
     "start_time": "2022-07-22T11:53:45.647157",
     "status": "completed"
    },
    "tags": []
   },
   "outputs": [],
   "source": [
    "df1.drop('Unnamed: 0',axis=1,inplace=True)"
   ]
  },
  {
   "cell_type": "code",
   "execution_count": 14,
   "id": "52253b6e",
   "metadata": {
    "execution": {
     "iopub.execute_input": "2022-07-22T11:53:45.881722Z",
     "iopub.status.busy": "2022-07-22T11:53:45.881310Z",
     "iopub.status.idle": "2022-07-22T11:53:46.042293Z",
     "shell.execute_reply": "2022-07-22T11:53:46.041027Z"
    },
    "papermill": {
     "duration": 0.18373,
     "end_time": "2022-07-22T11:53:46.044954",
     "exception": false,
     "start_time": "2022-07-22T11:53:45.861224",
     "status": "completed"
    },
    "tags": []
   },
   "outputs": [],
   "source": [
    "df1.drop('customer_ID',axis=1,inplace=True)"
   ]
  },
  {
   "cell_type": "code",
   "execution_count": 15,
   "id": "c9d944d9",
   "metadata": {
    "execution": {
     "iopub.execute_input": "2022-07-22T11:53:46.084634Z",
     "iopub.status.busy": "2022-07-22T11:53:46.084235Z",
     "iopub.status.idle": "2022-07-22T11:53:46.240951Z",
     "shell.execute_reply": "2022-07-22T11:53:46.239826Z"
    },
    "papermill": {
     "duration": 0.17951,
     "end_time": "2022-07-22T11:53:46.243807",
     "exception": false,
     "start_time": "2022-07-22T11:53:46.064297",
     "status": "completed"
    },
    "tags": []
   },
   "outputs": [],
   "source": [
    "df1.drop('S_2',axis=1,inplace=True)"
   ]
  },
  {
   "cell_type": "code",
   "execution_count": 16,
   "id": "9453e4be",
   "metadata": {
    "execution": {
     "iopub.execute_input": "2022-07-22T11:53:46.282029Z",
     "iopub.status.busy": "2022-07-22T11:53:46.281402Z",
     "iopub.status.idle": "2022-07-22T11:53:46.516280Z",
     "shell.execute_reply": "2022-07-22T11:53:46.514958Z"
    },
    "papermill": {
     "duration": 0.257552,
     "end_time": "2022-07-22T11:53:46.519249",
     "exception": false,
     "start_time": "2022-07-22T11:53:46.261697",
     "status": "completed"
    },
    "tags": []
   },
   "outputs": [],
   "source": [
    "df1.fillna(method=\"ffill\",inplace=True)\n"
   ]
  },
  {
   "cell_type": "code",
   "execution_count": 17,
   "id": "645d240b",
   "metadata": {
    "execution": {
     "iopub.execute_input": "2022-07-22T11:53:46.557625Z",
     "iopub.status.busy": "2022-07-22T11:53:46.556971Z",
     "iopub.status.idle": "2022-07-22T11:53:46.800738Z",
     "shell.execute_reply": "2022-07-22T11:53:46.799492Z"
    },
    "papermill": {
     "duration": 0.266047,
     "end_time": "2022-07-22T11:53:46.803746",
     "exception": false,
     "start_time": "2022-07-22T11:53:46.537699",
     "status": "completed"
    },
    "tags": []
   },
   "outputs": [],
   "source": [
    "df1.fillna(method=\"bfill\",inplace=True)\n"
   ]
  },
  {
   "cell_type": "code",
   "execution_count": 18,
   "id": "ff060d4d",
   "metadata": {
    "execution": {
     "iopub.execute_input": "2022-07-22T11:53:46.842923Z",
     "iopub.status.busy": "2022-07-22T11:53:46.842497Z",
     "iopub.status.idle": "2022-07-22T11:53:47.072761Z",
     "shell.execute_reply": "2022-07-22T11:53:47.071426Z"
    },
    "papermill": {
     "duration": 0.253145,
     "end_time": "2022-07-22T11:53:47.075512",
     "exception": false,
     "start_time": "2022-07-22T11:53:46.822367",
     "status": "completed"
    },
    "tags": []
   },
   "outputs": [
    {
     "data": {
      "text/plain": [
       "P_2       0\n",
       "D_39      0\n",
       "B_1       0\n",
       "B_2       0\n",
       "R_1       0\n",
       "S_3       0\n",
       "D_41      0\n",
       "D_43      0\n",
       "D_44      0\n",
       "B_4       0\n",
       "D_45      0\n",
       "B_5       0\n",
       "R_2       0\n",
       "D_46      0\n",
       "D_47      0\n",
       "B_6       0\n",
       "B_7       0\n",
       "D_51      0\n",
       "B_9       0\n",
       "R_3       0\n",
       "D_52      0\n",
       "P_3       0\n",
       "B_10      0\n",
       "S_5       0\n",
       "S_6       0\n",
       "D_54      0\n",
       "B_12      0\n",
       "S_8       0\n",
       "R_5       0\n",
       "B_14      0\n",
       "D_59      0\n",
       "D_60      0\n",
       "S_11      0\n",
       "D_62      0\n",
       "D_63      0\n",
       "D_64      0\n",
       "D_65      0\n",
       "D_68      0\n",
       "S_12      0\n",
       "R_6       0\n",
       "S_13      0\n",
       "B_21      0\n",
       "D_69      0\n",
       "D_70      0\n",
       "D_71      0\n",
       "D_72      0\n",
       "P_4       0\n",
       "B_24      0\n",
       "R_7       0\n",
       "B_25      0\n",
       "B_26      0\n",
       "D_78      0\n",
       "D_79      0\n",
       "D_80      0\n",
       "R_10      0\n",
       "R_11      0\n",
       "B_27      0\n",
       "D_81      0\n",
       "S_17      0\n",
       "R_12      0\n",
       "R_13      0\n",
       "D_83      0\n",
       "R_14      0\n",
       "R_15      0\n",
       "D_84      0\n",
       "R_16      0\n",
       "S_18      0\n",
       "D_86      0\n",
       "R_17      0\n",
       "R_18      0\n",
       "B_31      0\n",
       "S_19      0\n",
       "R_19      0\n",
       "B_32      0\n",
       "S_20      0\n",
       "R_20      0\n",
       "D_89      0\n",
       "R_22      0\n",
       "R_23      0\n",
       "D_91      0\n",
       "D_92      0\n",
       "D_93      0\n",
       "D_94      0\n",
       "R_24      0\n",
       "R_25      0\n",
       "D_96      0\n",
       "S_22      0\n",
       "S_23      0\n",
       "S_25      0\n",
       "S_26      0\n",
       "D_102     0\n",
       "B_36      0\n",
       "R_27      0\n",
       "D_109     0\n",
       "D_112     0\n",
       "B_40      0\n",
       "S_27      0\n",
       "D_114     0\n",
       "D_115     0\n",
       "D_116     0\n",
       "D_117     0\n",
       "D_120     0\n",
       "D_122     0\n",
       "D_123     0\n",
       "D_124     0\n",
       "D_125     0\n",
       "D_126     0\n",
       "D_127     0\n",
       "D_128     0\n",
       "B_41      0\n",
       "D_130     0\n",
       "R_28      0\n",
       "D_139     0\n",
       "D_140     0\n",
       "D_144     0\n",
       "D_145     0\n",
       "target    0\n",
       "dtype: int64"
      ]
     },
     "execution_count": 18,
     "metadata": {},
     "output_type": "execute_result"
    }
   ],
   "source": [
    "df1.isnull().sum()"
   ]
  },
  {
   "cell_type": "code",
   "execution_count": 19,
   "id": "0b33f7a3",
   "metadata": {
    "execution": {
     "iopub.execute_input": "2022-07-22T11:53:47.114739Z",
     "iopub.status.busy": "2022-07-22T11:53:47.113730Z",
     "iopub.status.idle": "2022-07-22T11:53:47.134679Z",
     "shell.execute_reply": "2022-07-22T11:53:47.132989Z"
    },
    "papermill": {
     "duration": 0.044047,
     "end_time": "2022-07-22T11:53:47.137761",
     "exception": false,
     "start_time": "2022-07-22T11:53:47.093714",
     "status": "completed"
    },
    "tags": []
   },
   "outputs": [
    {
     "name": "stdout",
     "output_type": "stream",
     "text": [
      "<class 'pandas.core.frame.DataFrame'>\n",
      "Int64Index: 500000 entries, 0 to 499999\n",
      "Data columns (total 117 columns):\n",
      " #    Column  Dtype  \n",
      "---   ------  -----  \n",
      " 0    P_2     float64\n",
      " 1    D_39    float64\n",
      " 2    B_1     float64\n",
      " 3    B_2     float64\n",
      " 4    R_1     float64\n",
      " 5    S_3     float64\n",
      " 6    D_41    float64\n",
      " 7    D_43    float64\n",
      " 8    D_44    float64\n",
      " 9    B_4     float64\n",
      " 10   D_45    float64\n",
      " 11   B_5     float64\n",
      " 12   R_2     float64\n",
      " 13   D_46    float64\n",
      " 14   D_47    float64\n",
      " 15   B_6     float64\n",
      " 16   B_7     float64\n",
      " 17   D_51    float64\n",
      " 18   B_9     float64\n",
      " 19   R_3     float64\n",
      " 20   D_52    float64\n",
      " 21   P_3     float64\n",
      " 22   B_10    float64\n",
      " 23   S_5     float64\n",
      " 24   S_6     float64\n",
      " 25   D_54    float64\n",
      " 26   B_12    float64\n",
      " 27   S_8     float64\n",
      " 28   R_5     float64\n",
      " 29   B_14    float64\n",
      " 30   D_59    float64\n",
      " 31   D_60    float64\n",
      " 32   S_11    float64\n",
      " 33   D_62    float64\n",
      " 34   D_63    object \n",
      " 35   D_64    object \n",
      " 36   D_65    float64\n",
      " 37   D_68    float64\n",
      " 38   S_12    float64\n",
      " 39   R_6     float64\n",
      " 40   S_13    float64\n",
      " 41   B_21    float64\n",
      " 42   D_69    float64\n",
      " 43   D_70    float64\n",
      " 44   D_71    float64\n",
      " 45   D_72    float64\n",
      " 46   P_4     float64\n",
      " 47   B_24    float64\n",
      " 48   R_7     float64\n",
      " 49   B_25    float64\n",
      " 50   B_26    float64\n",
      " 51   D_78    float64\n",
      " 52   D_79    float64\n",
      " 53   D_80    float64\n",
      " 54   R_10    float64\n",
      " 55   R_11    float64\n",
      " 56   B_27    float64\n",
      " 57   D_81    float64\n",
      " 58   S_17    float64\n",
      " 59   R_12    float64\n",
      " 60   R_13    float64\n",
      " 61   D_83    float64\n",
      " 62   R_14    float64\n",
      " 63   R_15    float64\n",
      " 64   D_84    float64\n",
      " 65   R_16    float64\n",
      " 66   S_18    float64\n",
      " 67   D_86    float64\n",
      " 68   R_17    float64\n",
      " 69   R_18    float64\n",
      " 70   B_31    int64  \n",
      " 71   S_19    float64\n",
      " 72   R_19    float64\n",
      " 73   B_32    float64\n",
      " 74   S_20    float64\n",
      " 75   R_20    float64\n",
      " 76   D_89    float64\n",
      " 77   R_22    float64\n",
      " 78   R_23    float64\n",
      " 79   D_91    float64\n",
      " 80   D_92    float64\n",
      " 81   D_93    float64\n",
      " 82   D_94    float64\n",
      " 83   R_24    float64\n",
      " 84   R_25    float64\n",
      " 85   D_96    float64\n",
      " 86   S_22    float64\n",
      " 87   S_23    float64\n",
      " 88   S_25    float64\n",
      " 89   S_26    float64\n",
      " 90   D_102   float64\n",
      " 91   B_36    float64\n",
      " 92   R_27    float64\n",
      " 93   D_109   float64\n",
      " 94   D_112   float64\n",
      " 95   B_40    float64\n",
      " 96   S_27    float64\n",
      " 97   D_114   float64\n",
      " 98   D_115   float64\n",
      " 99   D_116   float64\n",
      " 100  D_117   float64\n",
      " 101  D_120   float64\n",
      " 102  D_122   float64\n",
      " 103  D_123   float64\n",
      " 104  D_124   float64\n",
      " 105  D_125   float64\n",
      " 106  D_126   float64\n",
      " 107  D_127   float64\n",
      " 108  D_128   float64\n",
      " 109  B_41    float64\n",
      " 110  D_130   float64\n",
      " 111  R_28    float64\n",
      " 112  D_139   float64\n",
      " 113  D_140   float64\n",
      " 114  D_144   float64\n",
      " 115  D_145   float64\n",
      " 116  target  int64  \n",
      "dtypes: float64(113), int64(2), object(2)\n",
      "memory usage: 450.1+ MB\n"
     ]
    }
   ],
   "source": [
    "df1.info(verbose=True)"
   ]
  },
  {
   "cell_type": "markdown",
   "id": "df5fe3b5",
   "metadata": {
    "papermill": {
     "duration": 0.0184,
     "end_time": "2022-07-22T11:53:47.174809",
     "exception": false,
     "start_time": "2022-07-22T11:53:47.156409",
     "status": "completed"
    },
    "tags": []
   },
   "source": [
    "S_2,D_63,D_64 object type"
   ]
  },
  {
   "cell_type": "code",
   "execution_count": 20,
   "id": "4693d3da",
   "metadata": {
    "execution": {
     "iopub.execute_input": "2022-07-22T11:53:47.214394Z",
     "iopub.status.busy": "2022-07-22T11:53:47.213753Z",
     "iopub.status.idle": "2022-07-22T11:53:47.255477Z",
     "shell.execute_reply": "2022-07-22T11:53:47.254222Z"
    },
    "papermill": {
     "duration": 0.064685,
     "end_time": "2022-07-22T11:53:47.258107",
     "exception": false,
     "start_time": "2022-07-22T11:53:47.193422",
     "status": "completed"
    },
    "tags": []
   },
   "outputs": [
    {
     "data": {
      "text/plain": [
       "array(['CR', 'CO', 'CL', 'XZ', 'XM', 'XL'], dtype=object)"
      ]
     },
     "execution_count": 20,
     "metadata": {},
     "output_type": "execute_result"
    }
   ],
   "source": [
    "df1.D_63.unique()"
   ]
  },
  {
   "cell_type": "code",
   "execution_count": 21,
   "id": "640c7105",
   "metadata": {
    "execution": {
     "iopub.execute_input": "2022-07-22T11:53:47.297321Z",
     "iopub.status.busy": "2022-07-22T11:53:47.296956Z",
     "iopub.status.idle": "2022-07-22T11:53:47.702308Z",
     "shell.execute_reply": "2022-07-22T11:53:47.701040Z"
    },
    "papermill": {
     "duration": 0.428335,
     "end_time": "2022-07-22T11:53:47.704977",
     "exception": false,
     "start_time": "2022-07-22T11:53:47.276642",
     "status": "completed"
    },
    "tags": []
   },
   "outputs": [],
   "source": [
    "df1['D_64'] = df1['D_64'].str.replace('-1','R')\n"
   ]
  },
  {
   "cell_type": "markdown",
   "id": "52c513a8",
   "metadata": {
    "papermill": {
     "duration": 0.018197,
     "end_time": "2022-07-22T11:53:47.742408",
     "exception": false,
     "start_time": "2022-07-22T11:53:47.724211",
     "status": "completed"
    },
    "tags": []
   },
   "source": [
    "Model building"
   ]
  },
  {
   "cell_type": "markdown",
   "id": "916e8f01",
   "metadata": {
    "papermill": {
     "duration": 0.018328,
     "end_time": "2022-07-22T11:53:47.779875",
     "exception": false,
     "start_time": "2022-07-22T11:53:47.761547",
     "status": "completed"
    },
    "tags": []
   },
   "source": [
    "Step 1: one hot encoding"
   ]
  },
  {
   "cell_type": "code",
   "execution_count": 22,
   "id": "9c50d40a",
   "metadata": {
    "execution": {
     "iopub.execute_input": "2022-07-22T11:53:47.821193Z",
     "iopub.status.busy": "2022-07-22T11:53:47.820781Z",
     "iopub.status.idle": "2022-07-22T11:53:48.242043Z",
     "shell.execute_reply": "2022-07-22T11:53:48.240728Z"
    },
    "papermill": {
     "duration": 0.446253,
     "end_time": "2022-07-22T11:53:48.244705",
     "exception": false,
     "start_time": "2022-07-22T11:53:47.798452",
     "status": "completed"
    },
    "tags": []
   },
   "outputs": [],
   "source": [
    "df1_dummies = pd.get_dummies(df1, drop_first=True)\n"
   ]
  },
  {
   "cell_type": "code",
   "execution_count": 23,
   "id": "a6a93eb3",
   "metadata": {
    "execution": {
     "iopub.execute_input": "2022-07-22T11:53:48.284273Z",
     "iopub.status.busy": "2022-07-22T11:53:48.283869Z",
     "iopub.status.idle": "2022-07-22T11:53:48.753369Z",
     "shell.execute_reply": "2022-07-22T11:53:48.752006Z"
    },
    "papermill": {
     "duration": 0.492816,
     "end_time": "2022-07-22T11:53:48.756306",
     "exception": false,
     "start_time": "2022-07-22T11:53:48.263490",
     "status": "completed"
    },
    "tags": []
   },
   "outputs": [],
   "source": [
    "df1_dummies.drop('target',axis=1,inplace=True)"
   ]
  },
  {
   "cell_type": "code",
   "execution_count": 24,
   "id": "741e1f3b",
   "metadata": {
    "execution": {
     "iopub.execute_input": "2022-07-22T11:53:48.797173Z",
     "iopub.status.busy": "2022-07-22T11:53:48.796538Z",
     "iopub.status.idle": "2022-07-22T11:53:48.814358Z",
     "shell.execute_reply": "2022-07-22T11:53:48.812687Z"
    },
    "papermill": {
     "duration": 0.042148,
     "end_time": "2022-07-22T11:53:48.817687",
     "exception": false,
     "start_time": "2022-07-22T11:53:48.775539",
     "status": "completed"
    },
    "tags": []
   },
   "outputs": [
    {
     "name": "stdout",
     "output_type": "stream",
     "text": [
      "<class 'pandas.core.frame.DataFrame'>\n",
      "Int64Index: 500000 entries, 0 to 499999\n",
      "Columns: 121 entries, P_2 to D_64_U\n",
      "dtypes: float64(113), int64(1), uint8(7)\n",
      "memory usage: 442.0 MB\n"
     ]
    }
   ],
   "source": [
    "df1_dummies.info()"
   ]
  },
  {
   "cell_type": "code",
   "execution_count": 25,
   "id": "c9f4722c",
   "metadata": {
    "execution": {
     "iopub.execute_input": "2022-07-22T11:53:48.859022Z",
     "iopub.status.busy": "2022-07-22T11:53:48.858589Z",
     "iopub.status.idle": "2022-07-22T11:53:48.864992Z",
     "shell.execute_reply": "2022-07-22T11:53:48.863469Z"
    },
    "papermill": {
     "duration": 0.029663,
     "end_time": "2022-07-22T11:53:48.867472",
     "exception": false,
     "start_time": "2022-07-22T11:53:48.837809",
     "status": "completed"
    },
    "tags": []
   },
   "outputs": [],
   "source": [
    "y=df1.target"
   ]
  },
  {
   "cell_type": "code",
   "execution_count": 26,
   "id": "b46edd86",
   "metadata": {
    "execution": {
     "iopub.execute_input": "2022-07-22T11:53:48.906692Z",
     "iopub.status.busy": "2022-07-22T11:53:48.906300Z",
     "iopub.status.idle": "2022-07-22T11:53:48.914344Z",
     "shell.execute_reply": "2022-07-22T11:53:48.913188Z"
    },
    "papermill": {
     "duration": 0.031495,
     "end_time": "2022-07-22T11:53:48.917673",
     "exception": false,
     "start_time": "2022-07-22T11:53:48.886178",
     "status": "completed"
    },
    "tags": []
   },
   "outputs": [
    {
     "data": {
      "text/plain": [
       "0    0\n",
       "1    0\n",
       "2    0\n",
       "3    0\n",
       "4    0\n",
       "Name: target, dtype: int64"
      ]
     },
     "execution_count": 26,
     "metadata": {},
     "output_type": "execute_result"
    }
   ],
   "source": [
    "y.head()"
   ]
  },
  {
   "cell_type": "code",
   "execution_count": 27,
   "id": "77d254c7",
   "metadata": {
    "execution": {
     "iopub.execute_input": "2022-07-22T11:53:48.958207Z",
     "iopub.status.busy": "2022-07-22T11:53:48.957731Z",
     "iopub.status.idle": "2022-07-22T11:53:48.962741Z",
     "shell.execute_reply": "2022-07-22T11:53:48.961482Z"
    },
    "papermill": {
     "duration": 0.028265,
     "end_time": "2022-07-22T11:53:48.965660",
     "exception": false,
     "start_time": "2022-07-22T11:53:48.937395",
     "status": "completed"
    },
    "tags": []
   },
   "outputs": [],
   "source": [
    "X=df1_dummies"
   ]
  },
  {
   "cell_type": "code",
   "execution_count": 28,
   "id": "c3bfb924",
   "metadata": {
    "execution": {
     "iopub.execute_input": "2022-07-22T11:53:49.005796Z",
     "iopub.status.busy": "2022-07-22T11:53:49.005405Z",
     "iopub.status.idle": "2022-07-22T11:53:49.012610Z",
     "shell.execute_reply": "2022-07-22T11:53:49.010883Z"
    },
    "papermill": {
     "duration": 0.029888,
     "end_time": "2022-07-22T11:53:49.015005",
     "exception": false,
     "start_time": "2022-07-22T11:53:48.985117",
     "status": "completed"
    },
    "tags": []
   },
   "outputs": [
    {
     "data": {
      "text/plain": [
       "(500000, 121)"
      ]
     },
     "execution_count": 28,
     "metadata": {},
     "output_type": "execute_result"
    }
   ],
   "source": [
    "X.shape"
   ]
  },
  {
   "cell_type": "code",
   "execution_count": 29,
   "id": "4f3e0979",
   "metadata": {
    "execution": {
     "iopub.execute_input": "2022-07-22T11:53:49.055288Z",
     "iopub.status.busy": "2022-07-22T11:53:49.054771Z",
     "iopub.status.idle": "2022-07-22T11:53:49.060883Z",
     "shell.execute_reply": "2022-07-22T11:53:49.060042Z"
    },
    "papermill": {
     "duration": 0.029289,
     "end_time": "2022-07-22T11:53:49.063129",
     "exception": false,
     "start_time": "2022-07-22T11:53:49.033840",
     "status": "completed"
    },
    "tags": []
   },
   "outputs": [
    {
     "data": {
      "text/plain": [
       "(500000,)"
      ]
     },
     "execution_count": 29,
     "metadata": {},
     "output_type": "execute_result"
    }
   ],
   "source": [
    "y.shape"
   ]
  },
  {
   "cell_type": "code",
   "execution_count": 30,
   "id": "f87f517f",
   "metadata": {
    "execution": {
     "iopub.execute_input": "2022-07-22T11:53:49.103820Z",
     "iopub.status.busy": "2022-07-22T11:53:49.103412Z",
     "iopub.status.idle": "2022-07-22T11:53:49.969837Z",
     "shell.execute_reply": "2022-07-22T11:53:49.968711Z"
    },
    "papermill": {
     "duration": 0.888981,
     "end_time": "2022-07-22T11:53:49.972016",
     "exception": false,
     "start_time": "2022-07-22T11:53:49.083035",
     "status": "completed"
    },
    "tags": []
   },
   "outputs": [
    {
     "name": "stdout",
     "output_type": "stream",
     "text": [
      "Training Data Shape: (350000, 121) (350000,)\n",
      "Testing Data Shape: (150000, 121) (150000,)\n"
     ]
    }
   ],
   "source": [
    "X_train, X_test, y_train, y_test = train_test_split(X, y, test_size = 0.3, random_state = 42, stratify = y)\n",
    "\n",
    "print('Training Data Shape:', X_train.shape, y_train.shape)\n",
    "print('Testing Data Shape:', X_test.shape, y_test.shape)"
   ]
  },
  {
   "cell_type": "code",
   "execution_count": 31,
   "id": "0902e027",
   "metadata": {
    "execution": {
     "iopub.execute_input": "2022-07-22T11:53:50.012435Z",
     "iopub.status.busy": "2022-07-22T11:53:50.011742Z",
     "iopub.status.idle": "2022-07-22T11:53:59.994727Z",
     "shell.execute_reply": "2022-07-22T11:53:59.993414Z"
    },
    "papermill": {
     "duration": 10.007262,
     "end_time": "2022-07-22T11:53:59.998264",
     "exception": false,
     "start_time": "2022-07-22T11:53:49.991002",
     "status": "completed"
    },
    "tags": []
   },
   "outputs": [
    {
     "data": {
      "text/plain": [
       "LogisticRegression()"
      ]
     },
     "execution_count": 31,
     "metadata": {},
     "output_type": "execute_result"
    }
   ],
   "source": [
    "logreg = LogisticRegression()\n",
    "logreg.fit(X_train,y_train)"
   ]
  },
  {
   "cell_type": "code",
   "execution_count": 32,
   "id": "b96965c7",
   "metadata": {
    "execution": {
     "iopub.execute_input": "2022-07-22T11:54:00.071200Z",
     "iopub.status.busy": "2022-07-22T11:54:00.070603Z",
     "iopub.status.idle": "2022-07-22T11:54:00.340296Z",
     "shell.execute_reply": "2022-07-22T11:54:00.338990Z"
    },
    "papermill": {
     "duration": 0.311491,
     "end_time": "2022-07-22T11:54:00.344588",
     "exception": false,
     "start_time": "2022-07-22T11:54:00.033097",
     "status": "completed"
    },
    "tags": []
   },
   "outputs": [],
   "source": [
    "#predicting on train data\n",
    "y_pred_train = logreg.predict(X_train)\n",
    "\n",
    "#predicting on test data\n",
    "y_pred_test = logreg.predict(X_test)"
   ]
  },
  {
   "cell_type": "code",
   "execution_count": 33,
   "id": "9c09304c",
   "metadata": {
    "execution": {
     "iopub.execute_input": "2022-07-22T11:54:00.416623Z",
     "iopub.status.busy": "2022-07-22T11:54:00.416064Z",
     "iopub.status.idle": "2022-07-22T11:54:00.776417Z",
     "shell.execute_reply": "2022-07-22T11:54:00.774078Z"
    },
    "papermill": {
     "duration": 0.400227,
     "end_time": "2022-07-22T11:54:00.780056",
     "exception": false,
     "start_time": "2022-07-22T11:54:00.379829",
     "status": "completed"
    },
    "tags": []
   },
   "outputs": [
    {
     "name": "stdout",
     "output_type": "stream",
     "text": [
      "[[103687   8810]\n",
      " [ 11262  26241]]\n",
      "<function confusion_matrix at 0x7f0bb0fb58c0>\n",
      "              precision    recall  f1-score   support\n",
      "\n",
      "           0       0.90      0.92      0.91    112497\n",
      "           1       0.75      0.70      0.72     37503\n",
      "\n",
      "    accuracy                           0.87    150000\n",
      "   macro avg       0.83      0.81      0.82    150000\n",
      "weighted avg       0.86      0.87      0.86    150000\n",
      "\n"
     ]
    }
   ],
   "source": [
    "\n",
    "print(confusion_matrix(y_test, y_pred_test))\n",
    "confusion_matrix.index = ['Actual D','Actual nd']\n",
    "confusion_matrix.columns = ['Predicted D','Predicted nd']\n",
    "print(confusion_matrix)\n",
    "print(classification_report(y_test,y_pred_test))"
   ]
  },
  {
   "cell_type": "code",
   "execution_count": 34,
   "id": "77110dee",
   "metadata": {
    "execution": {
     "iopub.execute_input": "2022-07-22T11:54:00.822871Z",
     "iopub.status.busy": "2022-07-22T11:54:00.822040Z",
     "iopub.status.idle": "2022-07-22T11:54:00.927346Z",
     "shell.execute_reply": "2022-07-22T11:54:00.925326Z"
    },
    "papermill": {
     "duration": 0.130565,
     "end_time": "2022-07-22T11:54:00.931447",
     "exception": false,
     "start_time": "2022-07-22T11:54:00.800882",
     "status": "completed"
    },
    "tags": []
   },
   "outputs": [
    {
     "name": "stdout",
     "output_type": "stream",
     "text": [
      "Accuracy score for test data is: 0.8661866666666667\n"
     ]
    }
   ],
   "source": [
    "pred = logreg.predict(X_test)\n",
    "print('Accuracy score for test data is:', accuracy_score(y_test,pred))"
   ]
  },
  {
   "cell_type": "code",
   "execution_count": 35,
   "id": "d6e46aeb",
   "metadata": {
    "execution": {
     "iopub.execute_input": "2022-07-22T11:54:01.006192Z",
     "iopub.status.busy": "2022-07-22T11:54:01.005389Z",
     "iopub.status.idle": "2022-07-22T11:54:43.305161Z",
     "shell.execute_reply": "2022-07-22T11:54:43.303803Z"
    },
    "papermill": {
     "duration": 42.377052,
     "end_time": "2022-07-22T11:54:43.345258",
     "exception": false,
     "start_time": "2022-07-22T11:54:00.968206",
     "status": "completed"
    },
    "tags": []
   },
   "outputs": [
    {
     "name": "stdout",
     "output_type": "stream",
     "text": [
      "[0.72159712 0.72338021 0.72312219 0.71902352 0.72579597]\n",
      "Average f1\n",
      "0.7225838034870973\n"
     ]
    }
   ],
   "source": [
    "scoreslg = cross_val_score(logreg,X_train,y_train,cv=5,scoring='f1')\n",
    "print(scoreslg)\n",
    "print(\"Average f1\")\n",
    "print(np.mean(scoreslg))"
   ]
  },
  {
   "cell_type": "code",
   "execution_count": 36,
   "id": "a28756b0",
   "metadata": {
    "execution": {
     "iopub.execute_input": "2022-07-22T11:54:43.401174Z",
     "iopub.status.busy": "2022-07-22T11:54:43.400614Z",
     "iopub.status.idle": "2022-07-22T11:58:06.636887Z",
     "shell.execute_reply": "2022-07-22T11:58:06.634945Z"
    },
    "papermill": {
     "duration": 203.264047,
     "end_time": "2022-07-22T11:58:06.641729",
     "exception": false,
     "start_time": "2022-07-22T11:54:43.377682",
     "status": "completed"
    },
    "tags": []
   },
   "outputs": [
    {
     "name": "stdout",
     "output_type": "stream",
     "text": [
      "Testing Accuracy for dtree\n",
      "0.85598\n",
      "Training Accuracy for dtree\n",
      "1.0\n",
      "[[101694  10803]\n",
      " [ 10800  26703]]\n",
      "              precision    recall  f1-score   support\n",
      "\n",
      "           0       0.90      0.90      0.90    112497\n",
      "           1       0.71      0.71      0.71     37503\n",
      "\n",
      "    accuracy                           0.86    150000\n",
      "   macro avg       0.81      0.81      0.81    150000\n",
      "weighted avg       0.86      0.86      0.86    150000\n",
      "\n"
     ]
    }
   ],
   "source": [
    "from sklearn.tree import DecisionTreeClassifier\n",
    "dtree=DecisionTreeClassifier()\n",
    "\n",
    "dtree.fit(X_train,y_train)\n",
    "#predicting on train data\n",
    "y_pred_train = dtree.predict(X_train)\n",
    "\n",
    "#predicting on test data\n",
    "y_pred_test = dtree.predict(X_test)\n",
    "\n",
    "print(\"Testing Accuracy for dtree\")\n",
    "print(dtree.score(X_test,y_test))\n",
    "\n",
    "print(\"Training Accuracy for dtree\")\n",
    "print(dtree.score(X_train,y_train))\n",
    "print(confusion_matrix(y_test,y_pred_test))\n",
    "print(classification_report(y_test,y_pred_test))\n"
   ]
  },
  {
   "cell_type": "code",
   "execution_count": 37,
   "id": "2cd8a981",
   "metadata": {
    "execution": {
     "iopub.execute_input": "2022-07-22T11:58:06.684646Z",
     "iopub.status.busy": "2022-07-22T11:58:06.684258Z",
     "iopub.status.idle": "2022-07-22T11:59:43.427729Z",
     "shell.execute_reply": "2022-07-22T11:59:43.425274Z"
    },
    "papermill": {
     "duration": 96.768566,
     "end_time": "2022-07-22T11:59:43.430877",
     "exception": false,
     "start_time": "2022-07-22T11:58:06.662311",
     "status": "completed"
    },
    "tags": []
   },
   "outputs": [
    {
     "name": "stderr",
     "output_type": "stream",
     "text": [
      "[Parallel(n_jobs=1)]: Using backend SequentialBackend with 1 concurrent workers.\n",
      "[Parallel(n_jobs=1)]: Done  10 out of  10 | elapsed:  1.5min finished\n"
     ]
    },
    {
     "name": "stdout",
     "output_type": "stream",
     "text": [
      "Training Accuracy\n"
     ]
    },
    {
     "name": "stderr",
     "output_type": "stream",
     "text": [
      "[Parallel(n_jobs=1)]: Using backend SequentialBackend with 1 concurrent workers.\n",
      "[Parallel(n_jobs=1)]: Done  10 out of  10 | elapsed:    1.9s finished\n",
      "[Parallel(n_jobs=1)]: Using backend SequentialBackend with 1 concurrent workers.\n"
     ]
    },
    {
     "name": "stdout",
     "output_type": "stream",
     "text": [
      "0.9936228571428571\n",
      "Testing Accuracy\n"
     ]
    },
    {
     "name": "stderr",
     "output_type": "stream",
     "text": [
      "[Parallel(n_jobs=1)]: Done  10 out of  10 | elapsed:    0.8s finished\n",
      "[Parallel(n_jobs=1)]: Using backend SequentialBackend with 1 concurrent workers.\n"
     ]
    },
    {
     "name": "stdout",
     "output_type": "stream",
     "text": [
      "0.87214\n"
     ]
    },
    {
     "name": "stderr",
     "output_type": "stream",
     "text": [
      "[Parallel(n_jobs=1)]: Done  10 out of  10 | elapsed:    0.9s finished\n"
     ]
    },
    {
     "name": "stdout",
     "output_type": "stream",
     "text": [
      "[[106693   5804]\n",
      " [ 13375  24128]]\n",
      "              precision    recall  f1-score   support\n",
      "\n",
      "           0       0.89      0.95      0.92    112497\n",
      "           1       0.81      0.64      0.72     37503\n",
      "\n",
      "    accuracy                           0.87    150000\n",
      "   macro avg       0.85      0.80      0.82    150000\n",
      "weighted avg       0.87      0.87      0.87    150000\n",
      "\n"
     ]
    }
   ],
   "source": [
    "from sklearn.ensemble import RandomForestClassifier\n",
    "from sklearn.metrics import confusion_matrix,classification_report\n",
    "from sklearn.model_selection import cross_val_score\n",
    "lr = RandomForestClassifier(n_estimators=10,class_weight='balanced',verbose=True)\n",
    "lr.fit(X_train,y_train)\n",
    "print(\"Training Accuracy\")\n",
    "print(lr.score(X_train,y_train))\n",
    "print(\"Testing Accuracy\")\n",
    "print(lr.score(X_test,y_test))\n",
    "predicted = lr.predict(X_test)\n",
    "print(confusion_matrix(y_test,predicted))\n",
    "print(classification_report(y_test,predicted))\n",
    "\n"
   ]
  },
  {
   "cell_type": "code",
   "execution_count": null,
   "id": "574816ea",
   "metadata": {
    "papermill": {
     "duration": 0.022968,
     "end_time": "2022-07-22T11:59:43.475608",
     "exception": false,
     "start_time": "2022-07-22T11:59:43.452640",
     "status": "completed"
    },
    "tags": []
   },
   "outputs": [],
   "source": []
  },
  {
   "cell_type": "code",
   "execution_count": null,
   "id": "8de28112",
   "metadata": {
    "papermill": {
     "duration": 0.021354,
     "end_time": "2022-07-22T11:59:43.519888",
     "exception": false,
     "start_time": "2022-07-22T11:59:43.498534",
     "status": "completed"
    },
    "tags": []
   },
   "outputs": [],
   "source": []
  },
  {
   "cell_type": "code",
   "execution_count": 38,
   "id": "376ef3f7",
   "metadata": {
    "execution": {
     "iopub.execute_input": "2022-07-22T11:59:43.565914Z",
     "iopub.status.busy": "2022-07-22T11:59:43.565405Z",
     "iopub.status.idle": "2022-07-22T12:05:46.449850Z",
     "shell.execute_reply": "2022-07-22T12:05:46.448178Z"
    },
    "papermill": {
     "duration": 362.910451,
     "end_time": "2022-07-22T12:05:46.452516",
     "exception": false,
     "start_time": "2022-07-22T11:59:43.542065",
     "status": "completed"
    },
    "tags": []
   },
   "outputs": [
    {
     "name": "stderr",
     "output_type": "stream",
     "text": [
      "[Parallel(n_jobs=1)]: Using backend SequentialBackend with 1 concurrent workers.\n",
      "[Parallel(n_jobs=1)]: Done  10 out of  10 | elapsed:  1.2min finished\n",
      "[Parallel(n_jobs=1)]: Using backend SequentialBackend with 1 concurrent workers.\n",
      "[Parallel(n_jobs=1)]: Done  10 out of  10 | elapsed:    0.4s finished\n",
      "[Parallel(n_jobs=1)]: Using backend SequentialBackend with 1 concurrent workers.\n",
      "[Parallel(n_jobs=1)]: Done  10 out of  10 | elapsed:  1.2min finished\n",
      "[Parallel(n_jobs=1)]: Using backend SequentialBackend with 1 concurrent workers.\n",
      "[Parallel(n_jobs=1)]: Done  10 out of  10 | elapsed:    0.4s finished\n",
      "[Parallel(n_jobs=1)]: Using backend SequentialBackend with 1 concurrent workers.\n",
      "[Parallel(n_jobs=1)]: Done  10 out of  10 | elapsed:  1.2min finished\n",
      "[Parallel(n_jobs=1)]: Using backend SequentialBackend with 1 concurrent workers.\n",
      "[Parallel(n_jobs=1)]: Done  10 out of  10 | elapsed:    0.4s finished\n",
      "[Parallel(n_jobs=1)]: Using backend SequentialBackend with 1 concurrent workers.\n",
      "[Parallel(n_jobs=1)]: Done  10 out of  10 | elapsed:  1.2min finished\n",
      "[Parallel(n_jobs=1)]: Using backend SequentialBackend with 1 concurrent workers.\n",
      "[Parallel(n_jobs=1)]: Done  10 out of  10 | elapsed:    0.3s finished\n",
      "[Parallel(n_jobs=1)]: Using backend SequentialBackend with 1 concurrent workers.\n",
      "[Parallel(n_jobs=1)]: Done  10 out of  10 | elapsed:  1.2min finished\n",
      "[Parallel(n_jobs=1)]: Using backend SequentialBackend with 1 concurrent workers.\n"
     ]
    },
    {
     "name": "stdout",
     "output_type": "stream",
     "text": [
      "[0.70260494 0.70686256 0.70353136 0.69859065 0.70558327]\n",
      "Average f1\n",
      "0.7034345564796199\n"
     ]
    },
    {
     "name": "stderr",
     "output_type": "stream",
     "text": [
      "[Parallel(n_jobs=1)]: Done  10 out of  10 | elapsed:    0.3s finished\n"
     ]
    }
   ],
   "source": [
    "scoresdt = cross_val_score(lr,X_train,y_train,cv=5,scoring='f1')\n",
    "print(scoresdt)\n",
    "print(\"Average f1\")\n",
    "print(np.mean(scoresdt))"
   ]
  },
  {
   "cell_type": "code",
   "execution_count": 39,
   "id": "ac37e4aa",
   "metadata": {
    "execution": {
     "iopub.execute_input": "2022-07-22T12:05:46.499187Z",
     "iopub.status.busy": "2022-07-22T12:05:46.498514Z",
     "iopub.status.idle": "2022-07-22T12:05:48.490652Z",
     "shell.execute_reply": "2022-07-22T12:05:48.489383Z"
    },
    "papermill": {
     "duration": 2.018872,
     "end_time": "2022-07-22T12:05:48.493674",
     "exception": false,
     "start_time": "2022-07-22T12:05:46.474802",
     "status": "completed"
    },
    "tags": []
   },
   "outputs": [
    {
     "name": "stderr",
     "output_type": "stream",
     "text": [
      "[Parallel(n_jobs=1)]: Using backend SequentialBackend with 1 concurrent workers.\n",
      "[Parallel(n_jobs=1)]: Done  10 out of  10 | elapsed:    1.8s finished\n"
     ]
    }
   ],
   "source": [
    " y_train_pred_count=lr.predict(X_train)"
   ]
  },
  {
   "cell_type": "code",
   "execution_count": null,
   "id": "71e686d0",
   "metadata": {
    "papermill": {
     "duration": 0.021531,
     "end_time": "2022-07-22T12:05:48.537363",
     "exception": false,
     "start_time": "2022-07-22T12:05:48.515832",
     "status": "completed"
    },
    "tags": []
   },
   "outputs": [],
   "source": []
  },
  {
   "cell_type": "code",
   "execution_count": 40,
   "id": "13e358e0",
   "metadata": {
    "execution": {
     "iopub.execute_input": "2022-07-22T12:05:48.583295Z",
     "iopub.status.busy": "2022-07-22T12:05:48.582913Z",
     "iopub.status.idle": "2022-07-22T12:05:48.670301Z",
     "shell.execute_reply": "2022-07-22T12:05:48.668737Z"
    },
    "papermill": {
     "duration": 0.113344,
     "end_time": "2022-07-22T12:05:48.672906",
     "exception": false,
     "start_time": "2022-07-22T12:05:48.559562",
     "status": "completed"
    },
    "tags": []
   },
   "outputs": [
    {
     "name": "stdout",
     "output_type": "stream",
     "text": [
      "0.9770732728320988\n"
     ]
    }
   ],
   "source": [
    "def amex_metric_mod(y_true, y_pred):\n",
    "\n",
    "    labels     = np.transpose(np.array([y_true, y_pred]))\n",
    "    labels     = labels[labels[:, 1].argsort()[::-1]]\n",
    "    weights    = np.where(labels[:,0]==0, 20, 1)\n",
    "    cut_vals   = labels[np.cumsum(weights) <= int(0.04 * np.sum(weights))]\n",
    "    top_four   = np.sum(cut_vals[:,0]) / np.sum(labels[:,0])\n",
    "\n",
    "    gini = [0,0]\n",
    "    for i in [1,0]:\n",
    "        labels         = np.transpose(np.array([y_true, y_pred]))\n",
    "        labels         = labels[labels[:, i].argsort()[::-1]]\n",
    "        weight         = np.where(labels[:,0]==0, 20, 1)\n",
    "        weight_random  = np.cumsum(weight / np.sum(weight))\n",
    "        total_pos      = np.sum(labels[:, 0] *  weight)\n",
    "        cum_pos_found  = np.cumsum(labels[:, 0] * weight)\n",
    "        lorentz        = cum_pos_found / total_pos\n",
    "        gini[i]        = np.sum((lorentz - weight_random) * weight)\n",
    "\n",
    "    return 0.5 * (gini[1]/gini[0] + top_four)\n",
    "print(amex_metric_mod(y_train, y_train_pred_count)) "
   ]
  },
  {
   "cell_type": "code",
   "execution_count": 41,
   "id": "5f780c68",
   "metadata": {
    "execution": {
     "iopub.execute_input": "2022-07-22T12:05:48.719406Z",
     "iopub.status.busy": "2022-07-22T12:05:48.719028Z",
     "iopub.status.idle": "2022-07-22T12:05:48.754767Z",
     "shell.execute_reply": "2022-07-22T12:05:48.753439Z"
    },
    "papermill": {
     "duration": 0.062879,
     "end_time": "2022-07-22T12:05:48.758308",
     "exception": false,
     "start_time": "2022-07-22T12:05:48.695429",
     "status": "completed"
    },
    "tags": []
   },
   "outputs": [
    {
     "name": "stdout",
     "output_type": "stream",
     "text": [
      "0.5062304824057255\n"
     ]
    }
   ],
   "source": [
    "print(amex_metric_mod(y_test, predicted)) "
   ]
  },
  {
   "cell_type": "code",
   "execution_count": 42,
   "id": "40decdf9",
   "metadata": {
    "execution": {
     "iopub.execute_input": "2022-07-22T12:05:48.805954Z",
     "iopub.status.busy": "2022-07-22T12:05:48.805556Z",
     "iopub.status.idle": "2022-07-22T12:05:48.813868Z",
     "shell.execute_reply": "2022-07-22T12:05:48.812624Z"
    },
    "papermill": {
     "duration": 0.034304,
     "end_time": "2022-07-22T12:05:48.816314",
     "exception": false,
     "start_time": "2022-07-22T12:05:48.782010",
     "status": "completed"
    },
    "tags": []
   },
   "outputs": [],
   "source": [
    "\n",
    "def create_model(df_test,subm_test):\n",
    "   \n",
    "    \n",
    "    df_test.drop('customer_ID',axis=1,inplace=True)\n",
    "    df_test.drop('S_2',axis=1,inplace=True)\n",
    "    df_test.fillna(method='ffill',inplace=True)\n",
    "    df_test.fillna(method='bfill',inplace=True)\n",
    "    df_test_dummies=pd.get_dummies(df_test, drop_first=True)\n",
    "  \n",
    "    subm_test['pred']=lr.predict(df_test_dummies)\n",
    "    #print(subm_test.head())\n",
    "    #subm_test2=subm_test2.append(subm_test1)\n",
    "    subm_test.to_csv('submssion.csv',mode='a',header=True,index=False)"
   ]
  },
  {
   "cell_type": "code",
   "execution_count": 43,
   "id": "d30117f3",
   "metadata": {
    "execution": {
     "iopub.execute_input": "2022-07-22T12:05:48.864461Z",
     "iopub.status.busy": "2022-07-22T12:05:48.864093Z",
     "iopub.status.idle": "2022-07-22T12:05:48.872854Z",
     "shell.execute_reply": "2022-07-22T12:05:48.871624Z"
    },
    "papermill": {
     "duration": 0.03601,
     "end_time": "2022-07-22T12:05:48.875504",
     "exception": false,
     "start_time": "2022-07-22T12:05:48.839494",
     "status": "completed"
    },
    "tags": []
   },
   "outputs": [],
   "source": [
    "del_col=['B_3', 'D_48', 'B_8', 'B_11', 'R_4', 'S_7', 'D_55', 'B_13', 'D_58', 'D_61', 'B_15', 'B_16', 'B_18', 'B_19', 'B_20', 'B_22', 'S_15', 'B_23', 'D_74', 'D_75', 'D_77', 'R_8', 'S_16', 'B_28', 'B_30', 'R_21', 'B_33', 'S_24', 'D_103', 'D_104', 'D_107', 'B_37', 'B_38', 'D_113', 'D_118', 'D_119', 'D_121', 'D_129', 'D_131', 'D_133', 'D_141', 'D_143','D_42',\n",
    " 'D_49',\n",
    " 'D_50',\n",
    " 'D_53',\n",
    " 'D_56',\n",
    " 'S_9',\n",
    " 'B_17',\n",
    " 'D_66',\n",
    " 'D_73',\n",
    " 'D_76',\n",
    " 'D_77',\n",
    " 'R_9',\n",
    " 'D_82',\n",
    " 'B_29',\n",
    " 'D_87',\n",
    " 'D_88',\n",
    " 'D_105',\n",
    " 'D_106',\n",
    " 'R_26',\n",
    " 'D_108',\n",
    " 'D_110',\n",
    " 'D_111',\n",
    " 'B_39',\n",
    " 'B_42',\n",
    " 'D_132',\n",
    " 'D_134',\n",
    " 'D_135',\n",
    " 'D_136',\n",
    " 'D_137',\n",
    " 'D_138',\n",
    " 'D_142']\n"
   ]
  },
  {
   "cell_type": "code",
   "execution_count": 44,
   "id": "4e4933a5",
   "metadata": {
    "execution": {
     "iopub.execute_input": "2022-07-22T12:05:48.923730Z",
     "iopub.status.busy": "2022-07-22T12:05:48.923372Z",
     "iopub.status.idle": "2022-07-22T12:05:48.957941Z",
     "shell.execute_reply": "2022-07-22T12:05:48.956604Z"
    },
    "papermill": {
     "duration": 0.063672,
     "end_time": "2022-07-22T12:05:48.961549",
     "exception": false,
     "start_time": "2022-07-22T12:05:48.897877",
     "status": "completed"
    },
    "tags": []
   },
   "outputs": [
    {
     "name": "stdout",
     "output_type": "stream",
     "text": [
      "['customer_ID', 'S_2', 'P_2', 'D_39', 'B_1', 'B_2', 'R_1', 'S_3', 'D_41', 'B_3', 'D_42', 'D_43', 'D_44', 'B_4', 'D_45', 'B_5', 'R_2', 'D_46', 'D_47', 'D_48', 'D_49', 'B_6', 'B_7', 'B_8', 'D_50', 'D_51', 'B_9', 'R_3', 'D_52', 'P_3', 'B_10', 'D_53', 'S_5', 'B_11', 'S_6', 'D_54', 'R_4', 'S_7', 'B_12', 'S_8', 'D_55', 'D_56', 'B_13', 'R_5', 'D_58', 'S_9', 'B_14', 'D_59', 'D_60', 'D_61', 'B_15', 'S_11', 'D_62', 'D_63', 'D_64', 'D_65', 'B_16', 'B_17', 'B_18', 'B_19', 'D_66', 'B_20', 'D_68', 'S_12', 'R_6', 'S_13', 'B_21', 'D_69', 'B_22', 'D_70', 'D_71', 'D_72', 'S_15', 'B_23', 'D_73', 'P_4', 'D_74', 'D_75', 'D_76', 'B_24', 'R_7', 'D_77', 'B_25', 'B_26', 'D_78', 'D_79', 'R_8', 'R_9', 'S_16', 'D_80', 'R_10', 'R_11', 'B_27', 'D_81', 'D_82', 'S_17', 'R_12', 'B_28', 'R_13', 'D_83', 'R_14', 'R_15', 'D_84', 'R_16', 'B_29', 'B_30', 'S_18', 'D_86', 'D_87', 'R_17', 'R_18', 'D_88', 'B_31', 'S_19', 'R_19', 'B_32', 'S_20', 'R_20', 'R_21', 'B_33', 'D_89', 'R_22', 'R_23', 'D_91', 'D_92', 'D_93', 'D_94', 'R_24', 'R_25', 'D_96', 'S_22', 'S_23', 'S_24', 'S_25', 'S_26', 'D_102', 'D_103', 'D_104', 'D_105', 'D_106', 'D_107', 'B_36', 'B_37', 'R_26', 'R_27', 'B_38', 'D_108', 'D_109', 'D_110', 'D_111', 'B_39', 'D_112', 'B_40', 'S_27', 'D_113', 'D_114', 'D_115', 'D_116', 'D_117', 'D_118', 'D_119', 'D_120', 'D_121', 'D_122', 'D_123', 'D_124', 'D_125', 'D_126', 'D_127', 'D_128', 'D_129', 'B_41', 'B_42', 'D_130', 'D_131', 'D_132', 'D_133', 'R_28', 'D_134', 'D_135', 'D_136', 'D_137', 'D_138', 'D_139', 'D_140', 'D_141', 'D_142', 'D_143', 'D_144', 'D_145']\n"
     ]
    }
   ],
   "source": [
    "headers = [*pd.read_csv('../input/amex-default-prediction/test_data.csv', nrows=1)]\n",
    "#cols = list(pd.read_csv(\"test_data.csv\", nrows =1))\n",
    "print(headers)"
   ]
  },
  {
   "cell_type": "code",
   "execution_count": 45,
   "id": "dbbf0ce7",
   "metadata": {
    "execution": {
     "iopub.execute_input": "2022-07-22T12:05:49.009010Z",
     "iopub.status.busy": "2022-07-22T12:05:49.008051Z",
     "iopub.status.idle": "2022-07-22T12:05:49.013678Z",
     "shell.execute_reply": "2022-07-22T12:05:49.012927Z"
    },
    "papermill": {
     "duration": 0.031705,
     "end_time": "2022-07-22T12:05:49.016133",
     "exception": false,
     "start_time": "2022-07-22T12:05:48.984428",
     "status": "completed"
    },
    "tags": []
   },
   "outputs": [],
   "source": [
    "final_col=list ((set(headers) - set (del_col)))"
   ]
  },
  {
   "cell_type": "code",
   "execution_count": 46,
   "id": "602e83b3",
   "metadata": {
    "execution": {
     "iopub.execute_input": "2022-07-22T12:05:49.064533Z",
     "iopub.status.busy": "2022-07-22T12:05:49.063501Z",
     "iopub.status.idle": "2022-07-22T12:05:49.073086Z",
     "shell.execute_reply": "2022-07-22T12:05:49.072153Z"
    },
    "papermill": {
     "duration": 0.036845,
     "end_time": "2022-07-22T12:05:49.075688",
     "exception": false,
     "start_time": "2022-07-22T12:05:49.038843",
     "status": "completed"
    },
    "tags": []
   },
   "outputs": [],
   "source": [
    "df_testdata = pd.read_csv('../input/amex-default-prediction/test_data.csv', chunksize=500000, iterator=True, usecols =final_col)"
   ]
  },
  {
   "cell_type": "code",
   "execution_count": 47,
   "id": "57e01e87",
   "metadata": {
    "execution": {
     "iopub.execute_input": "2022-07-22T12:05:49.122952Z",
     "iopub.status.busy": "2022-07-22T12:05:49.122200Z",
     "iopub.status.idle": "2022-07-22T12:20:04.049232Z",
     "shell.execute_reply": "2022-07-22T12:20:04.047959Z"
    },
    "papermill": {
     "duration": 854.95356,
     "end_time": "2022-07-22T12:20:04.052114",
     "exception": false,
     "start_time": "2022-07-22T12:05:49.098554",
     "status": "completed"
    },
    "tags": []
   },
   "outputs": [
    {
     "name": "stdout",
     "output_type": "stream",
     "text": [
      "1\n"
     ]
    },
    {
     "name": "stderr",
     "output_type": "stream",
     "text": [
      "[Parallel(n_jobs=1)]: Using backend SequentialBackend with 1 concurrent workers.\n",
      "[Parallel(n_jobs=1)]: Done  10 out of  10 | elapsed:    2.0s finished\n"
     ]
    },
    {
     "name": "stdout",
     "output_type": "stream",
     "text": [
      "2\n"
     ]
    },
    {
     "name": "stderr",
     "output_type": "stream",
     "text": [
      "[Parallel(n_jobs=1)]: Using backend SequentialBackend with 1 concurrent workers.\n",
      "[Parallel(n_jobs=1)]: Done  10 out of  10 | elapsed:    2.2s finished\n"
     ]
    },
    {
     "name": "stdout",
     "output_type": "stream",
     "text": [
      "3\n"
     ]
    },
    {
     "name": "stderr",
     "output_type": "stream",
     "text": [
      "[Parallel(n_jobs=1)]: Using backend SequentialBackend with 1 concurrent workers.\n",
      "[Parallel(n_jobs=1)]: Done  10 out of  10 | elapsed:    2.0s finished\n"
     ]
    },
    {
     "name": "stdout",
     "output_type": "stream",
     "text": [
      "4\n"
     ]
    },
    {
     "name": "stderr",
     "output_type": "stream",
     "text": [
      "[Parallel(n_jobs=1)]: Using backend SequentialBackend with 1 concurrent workers.\n",
      "[Parallel(n_jobs=1)]: Done  10 out of  10 | elapsed:    2.0s finished\n"
     ]
    },
    {
     "name": "stdout",
     "output_type": "stream",
     "text": [
      "5\n"
     ]
    },
    {
     "name": "stderr",
     "output_type": "stream",
     "text": [
      "[Parallel(n_jobs=1)]: Using backend SequentialBackend with 1 concurrent workers.\n",
      "[Parallel(n_jobs=1)]: Done  10 out of  10 | elapsed:    2.0s finished\n"
     ]
    },
    {
     "name": "stdout",
     "output_type": "stream",
     "text": [
      "6\n"
     ]
    },
    {
     "name": "stderr",
     "output_type": "stream",
     "text": [
      "[Parallel(n_jobs=1)]: Using backend SequentialBackend with 1 concurrent workers.\n",
      "[Parallel(n_jobs=1)]: Done  10 out of  10 | elapsed:    2.0s finished\n"
     ]
    },
    {
     "name": "stdout",
     "output_type": "stream",
     "text": [
      "7\n"
     ]
    },
    {
     "name": "stderr",
     "output_type": "stream",
     "text": [
      "[Parallel(n_jobs=1)]: Using backend SequentialBackend with 1 concurrent workers.\n",
      "[Parallel(n_jobs=1)]: Done  10 out of  10 | elapsed:    2.0s finished\n"
     ]
    },
    {
     "name": "stdout",
     "output_type": "stream",
     "text": [
      "8\n"
     ]
    },
    {
     "name": "stderr",
     "output_type": "stream",
     "text": [
      "[Parallel(n_jobs=1)]: Using backend SequentialBackend with 1 concurrent workers.\n",
      "[Parallel(n_jobs=1)]: Done  10 out of  10 | elapsed:    2.0s finished\n"
     ]
    },
    {
     "name": "stdout",
     "output_type": "stream",
     "text": [
      "9\n"
     ]
    },
    {
     "name": "stderr",
     "output_type": "stream",
     "text": [
      "[Parallel(n_jobs=1)]: Using backend SequentialBackend with 1 concurrent workers.\n",
      "[Parallel(n_jobs=1)]: Done  10 out of  10 | elapsed:    2.0s finished\n"
     ]
    },
    {
     "name": "stdout",
     "output_type": "stream",
     "text": [
      "10\n"
     ]
    },
    {
     "name": "stderr",
     "output_type": "stream",
     "text": [
      "[Parallel(n_jobs=1)]: Using backend SequentialBackend with 1 concurrent workers.\n",
      "[Parallel(n_jobs=1)]: Done  10 out of  10 | elapsed:    2.0s finished\n"
     ]
    },
    {
     "name": "stdout",
     "output_type": "stream",
     "text": [
      "11\n"
     ]
    },
    {
     "name": "stderr",
     "output_type": "stream",
     "text": [
      "[Parallel(n_jobs=1)]: Using backend SequentialBackend with 1 concurrent workers.\n",
      "[Parallel(n_jobs=1)]: Done  10 out of  10 | elapsed:    2.0s finished\n"
     ]
    },
    {
     "name": "stdout",
     "output_type": "stream",
     "text": [
      "12\n"
     ]
    },
    {
     "name": "stderr",
     "output_type": "stream",
     "text": [
      "[Parallel(n_jobs=1)]: Using backend SequentialBackend with 1 concurrent workers.\n",
      "[Parallel(n_jobs=1)]: Done  10 out of  10 | elapsed:    2.2s finished\n"
     ]
    },
    {
     "name": "stdout",
     "output_type": "stream",
     "text": [
      "13\n"
     ]
    },
    {
     "name": "stderr",
     "output_type": "stream",
     "text": [
      "[Parallel(n_jobs=1)]: Using backend SequentialBackend with 1 concurrent workers.\n",
      "[Parallel(n_jobs=1)]: Done  10 out of  10 | elapsed:    2.2s finished\n"
     ]
    },
    {
     "name": "stdout",
     "output_type": "stream",
     "text": [
      "14\n"
     ]
    },
    {
     "name": "stderr",
     "output_type": "stream",
     "text": [
      "[Parallel(n_jobs=1)]: Using backend SequentialBackend with 1 concurrent workers.\n",
      "[Parallel(n_jobs=1)]: Done  10 out of  10 | elapsed:    2.0s finished\n"
     ]
    },
    {
     "name": "stdout",
     "output_type": "stream",
     "text": [
      "15\n"
     ]
    },
    {
     "name": "stderr",
     "output_type": "stream",
     "text": [
      "[Parallel(n_jobs=1)]: Using backend SequentialBackend with 1 concurrent workers.\n",
      "[Parallel(n_jobs=1)]: Done  10 out of  10 | elapsed:    2.0s finished\n"
     ]
    },
    {
     "name": "stdout",
     "output_type": "stream",
     "text": [
      "16\n"
     ]
    },
    {
     "name": "stderr",
     "output_type": "stream",
     "text": [
      "[Parallel(n_jobs=1)]: Using backend SequentialBackend with 1 concurrent workers.\n",
      "[Parallel(n_jobs=1)]: Done  10 out of  10 | elapsed:    2.1s finished\n"
     ]
    },
    {
     "name": "stdout",
     "output_type": "stream",
     "text": [
      "17\n"
     ]
    },
    {
     "name": "stderr",
     "output_type": "stream",
     "text": [
      "[Parallel(n_jobs=1)]: Using backend SequentialBackend with 1 concurrent workers.\n",
      "[Parallel(n_jobs=1)]: Done  10 out of  10 | elapsed:    2.0s finished\n"
     ]
    },
    {
     "name": "stdout",
     "output_type": "stream",
     "text": [
      "18\n"
     ]
    },
    {
     "name": "stderr",
     "output_type": "stream",
     "text": [
      "[Parallel(n_jobs=1)]: Using backend SequentialBackend with 1 concurrent workers.\n",
      "[Parallel(n_jobs=1)]: Done  10 out of  10 | elapsed:    2.0s finished\n"
     ]
    },
    {
     "name": "stdout",
     "output_type": "stream",
     "text": [
      "19\n"
     ]
    },
    {
     "name": "stderr",
     "output_type": "stream",
     "text": [
      "[Parallel(n_jobs=1)]: Using backend SequentialBackend with 1 concurrent workers.\n",
      "[Parallel(n_jobs=1)]: Done  10 out of  10 | elapsed:    2.3s finished\n"
     ]
    },
    {
     "name": "stdout",
     "output_type": "stream",
     "text": [
      "20\n"
     ]
    },
    {
     "name": "stderr",
     "output_type": "stream",
     "text": [
      "[Parallel(n_jobs=1)]: Using backend SequentialBackend with 1 concurrent workers.\n",
      "[Parallel(n_jobs=1)]: Done  10 out of  10 | elapsed:    2.0s finished\n"
     ]
    },
    {
     "name": "stdout",
     "output_type": "stream",
     "text": [
      "21\n"
     ]
    },
    {
     "name": "stderr",
     "output_type": "stream",
     "text": [
      "[Parallel(n_jobs=1)]: Using backend SequentialBackend with 1 concurrent workers.\n",
      "[Parallel(n_jobs=1)]: Done  10 out of  10 | elapsed:    2.0s finished\n"
     ]
    },
    {
     "name": "stdout",
     "output_type": "stream",
     "text": [
      "22\n"
     ]
    },
    {
     "name": "stderr",
     "output_type": "stream",
     "text": [
      "[Parallel(n_jobs=1)]: Using backend SequentialBackend with 1 concurrent workers.\n",
      "[Parallel(n_jobs=1)]: Done  10 out of  10 | elapsed:    2.1s finished\n"
     ]
    },
    {
     "name": "stdout",
     "output_type": "stream",
     "text": [
      "23\n"
     ]
    },
    {
     "name": "stderr",
     "output_type": "stream",
     "text": [
      "[Parallel(n_jobs=1)]: Using backend SequentialBackend with 1 concurrent workers.\n",
      "[Parallel(n_jobs=1)]: Done  10 out of  10 | elapsed:    1.5s finished\n"
     ]
    }
   ],
   "source": [
    "\n",
    "\n",
    "for iter_num, chunk in enumerate(df_testdata, 1):\n",
    "    print(iter_num)\n",
    "    subm_t=pd.DataFrame(columns=['customer_ID','pred'])\n",
    "    subm_t[\"customer_ID\"]=  chunk[\"customer_ID\"]\n",
    "   \n",
    "    #print(chunk.info())\n",
    "    #print(subm_t.info())\n",
    "    create_model(chunk,subm_t)\n",
    "    \n"
   ]
  },
  {
   "cell_type": "code",
   "execution_count": 48,
   "id": "5b49f3ec",
   "metadata": {
    "execution": {
     "iopub.execute_input": "2022-07-22T12:20:04.108843Z",
     "iopub.status.busy": "2022-07-22T12:20:04.108116Z",
     "iopub.status.idle": "2022-07-22T12:20:04.351271Z",
     "shell.execute_reply": "2022-07-22T12:20:04.350055Z"
    },
    "papermill": {
     "duration": 0.275034,
     "end_time": "2022-07-22T12:20:04.354356",
     "exception": false,
     "start_time": "2022-07-22T12:20:04.079322",
     "status": "completed"
    },
    "tags": []
   },
   "outputs": [
    {
     "data": {
      "text/plain": [
       "169"
      ]
     },
     "execution_count": 48,
     "metadata": {},
     "output_type": "execute_result"
    }
   ],
   "source": [
    "import gc\n",
    "gc.collect()"
   ]
  },
  {
   "cell_type": "code",
   "execution_count": null,
   "id": "23e30a67",
   "metadata": {
    "papermill": {
     "duration": 0.027277,
     "end_time": "2022-07-22T12:20:04.410225",
     "exception": false,
     "start_time": "2022-07-22T12:20:04.382948",
     "status": "completed"
    },
    "tags": []
   },
   "outputs": [],
   "source": []
  },
  {
   "cell_type": "code",
   "execution_count": 49,
   "id": "6d09fd73",
   "metadata": {
    "execution": {
     "iopub.execute_input": "2022-07-22T12:20:04.467084Z",
     "iopub.status.busy": "2022-07-22T12:20:04.466002Z",
     "iopub.status.idle": "2022-07-22T12:20:13.265061Z",
     "shell.execute_reply": "2022-07-22T12:20:13.263424Z"
    },
    "papermill": {
     "duration": 8.830752,
     "end_time": "2022-07-22T12:20:13.268605",
     "exception": false,
     "start_time": "2022-07-22T12:20:04.437853",
     "status": "completed"
    },
    "tags": []
   },
   "outputs": [],
   "source": [
    "\n",
    "df_sub=pd.read_csv('submssion.csv')"
   ]
  },
  {
   "cell_type": "code",
   "execution_count": 50,
   "id": "5cb3a0e4",
   "metadata": {
    "execution": {
     "iopub.execute_input": "2022-07-22T12:20:13.443644Z",
     "iopub.status.busy": "2022-07-22T12:20:13.443019Z",
     "iopub.status.idle": "2022-07-22T12:20:13.455829Z",
     "shell.execute_reply": "2022-07-22T12:20:13.454953Z"
    },
    "papermill": {
     "duration": 0.162064,
     "end_time": "2022-07-22T12:20:13.458272",
     "exception": false,
     "start_time": "2022-07-22T12:20:13.296208",
     "status": "completed"
    },
    "tags": []
   },
   "outputs": [
    {
     "name": "stdout",
     "output_type": "stream",
     "text": [
      "<class 'pandas.core.frame.DataFrame'>\n",
      "RangeIndex: 11363784 entries, 0 to 11363783\n",
      "Data columns (total 2 columns):\n",
      " #   Column       Dtype \n",
      "---  ------       ----- \n",
      " 0   customer_ID  object\n",
      " 1   pred         object\n",
      "dtypes: object(2)\n",
      "memory usage: 173.4+ MB\n"
     ]
    }
   ],
   "source": [
    "df_sub.info()"
   ]
  },
  {
   "cell_type": "code",
   "execution_count": 51,
   "id": "1dd5d3c8",
   "metadata": {
    "execution": {
     "iopub.execute_input": "2022-07-22T12:20:13.516710Z",
     "iopub.status.busy": "2022-07-22T12:20:13.516178Z",
     "iopub.status.idle": "2022-07-22T12:20:15.544178Z",
     "shell.execute_reply": "2022-07-22T12:20:15.542972Z"
    },
    "papermill": {
     "duration": 2.060331,
     "end_time": "2022-07-22T12:20:15.546734",
     "exception": false,
     "start_time": "2022-07-22T12:20:13.486403",
     "status": "completed"
    },
    "tags": []
   },
   "outputs": [
    {
     "data": {
      "text/plain": [
       "924622"
      ]
     },
     "execution_count": 51,
     "metadata": {},
     "output_type": "execute_result"
    }
   ],
   "source": [
    "df_sub.customer_ID.nunique()"
   ]
  },
  {
   "cell_type": "code",
   "execution_count": 52,
   "id": "59fbb034",
   "metadata": {
    "execution": {
     "iopub.execute_input": "2022-07-22T12:20:15.606244Z",
     "iopub.status.busy": "2022-07-22T12:20:15.605833Z",
     "iopub.status.idle": "2022-07-22T12:20:18.218615Z",
     "shell.execute_reply": "2022-07-22T12:20:18.217268Z"
    },
    "papermill": {
     "duration": 2.647652,
     "end_time": "2022-07-22T12:20:18.221680",
     "exception": false,
     "start_time": "2022-07-22T12:20:15.574028",
     "status": "completed"
    },
    "tags": []
   },
   "outputs": [],
   "source": [
    "#df.drop(df.loc[df['Stock']=='Yes'].index, inplace=True)\n",
    "df_sub.drop(df_sub.loc[df_sub['customer_ID']=='customer_ID'].index,inplace=True)"
   ]
  },
  {
   "cell_type": "code",
   "execution_count": 53,
   "id": "e3a14b7d",
   "metadata": {
    "execution": {
     "iopub.execute_input": "2022-07-22T12:20:18.279219Z",
     "iopub.status.busy": "2022-07-22T12:20:18.278798Z",
     "iopub.status.idle": "2022-07-22T12:20:20.335224Z",
     "shell.execute_reply": "2022-07-22T12:20:20.333932Z"
    },
    "papermill": {
     "duration": 2.08852,
     "end_time": "2022-07-22T12:20:20.338072",
     "exception": false,
     "start_time": "2022-07-22T12:20:18.249552",
     "status": "completed"
    },
    "tags": []
   },
   "outputs": [
    {
     "data": {
      "text/plain": [
       "924621"
      ]
     },
     "execution_count": 53,
     "metadata": {},
     "output_type": "execute_result"
    }
   ],
   "source": [
    "df_sub.customer_ID.nunique()"
   ]
  },
  {
   "cell_type": "code",
   "execution_count": 54,
   "id": "7749b1a4",
   "metadata": {
    "execution": {
     "iopub.execute_input": "2022-07-22T12:20:20.395261Z",
     "iopub.status.busy": "2022-07-22T12:20:20.394812Z",
     "iopub.status.idle": "2022-07-22T12:20:24.254885Z",
     "shell.execute_reply": "2022-07-22T12:20:24.253387Z"
    },
    "papermill": {
     "duration": 3.891886,
     "end_time": "2022-07-22T12:20:24.257882",
     "exception": false,
     "start_time": "2022-07-22T12:20:20.365996",
     "status": "completed"
    },
    "tags": []
   },
   "outputs": [],
   "source": [
    "df_final_sub=df_sub.groupby('customer_ID').tail(1)"
   ]
  },
  {
   "cell_type": "code",
   "execution_count": 55,
   "id": "8dccbbc4",
   "metadata": {
    "execution": {
     "iopub.execute_input": "2022-07-22T12:20:24.316961Z",
     "iopub.status.busy": "2022-07-22T12:20:24.316535Z",
     "iopub.status.idle": "2022-07-22T12:20:24.527052Z",
     "shell.execute_reply": "2022-07-22T12:20:24.525832Z"
    },
    "papermill": {
     "duration": 0.244057,
     "end_time": "2022-07-22T12:20:24.530625",
     "exception": false,
     "start_time": "2022-07-22T12:20:24.286568",
     "status": "completed"
    },
    "tags": []
   },
   "outputs": [
    {
     "name": "stdout",
     "output_type": "stream",
     "text": [
      "<class 'pandas.core.frame.DataFrame'>\n",
      "Int64Index: 924621 entries, 8 to 11363783\n",
      "Data columns (total 2 columns):\n",
      " #   Column       Non-Null Count   Dtype \n",
      "---  ------       --------------   ----- \n",
      " 0   customer_ID  924621 non-null  object\n",
      " 1   pred         924621 non-null  object\n",
      "dtypes: object(2)\n",
      "memory usage: 21.2+ MB\n"
     ]
    }
   ],
   "source": [
    "df_final_sub.info()"
   ]
  },
  {
   "cell_type": "code",
   "execution_count": 56,
   "id": "af0c51e9",
   "metadata": {
    "execution": {
     "iopub.execute_input": "2022-07-22T12:20:24.591275Z",
     "iopub.status.busy": "2022-07-22T12:20:24.590378Z",
     "iopub.status.idle": "2022-07-22T12:20:24.634114Z",
     "shell.execute_reply": "2022-07-22T12:20:24.633134Z"
    },
    "papermill": {
     "duration": 0.076098,
     "end_time": "2022-07-22T12:20:24.636380",
     "exception": false,
     "start_time": "2022-07-22T12:20:24.560282",
     "status": "completed"
    },
    "tags": []
   },
   "outputs": [
    {
     "data": {
      "text/plain": [
       "4"
      ]
     },
     "execution_count": 56,
     "metadata": {},
     "output_type": "execute_result"
    }
   ],
   "source": [
    "df_final_sub.pred.nunique()"
   ]
  },
  {
   "cell_type": "code",
   "execution_count": 57,
   "id": "ccdf3ed8",
   "metadata": {
    "execution": {
     "iopub.execute_input": "2022-07-22T12:20:24.694072Z",
     "iopub.status.busy": "2022-07-22T12:20:24.693200Z",
     "iopub.status.idle": "2022-07-22T12:20:24.840688Z",
     "shell.execute_reply": "2022-07-22T12:20:24.839091Z"
    },
    "papermill": {
     "duration": 0.179458,
     "end_time": "2022-07-22T12:20:24.843408",
     "exception": false,
     "start_time": "2022-07-22T12:20:24.663950",
     "status": "completed"
    },
    "tags": []
   },
   "outputs": [],
   "source": [
    "df_final_sub.pred= df_final_sub.pred.astype (float)"
   ]
  },
  {
   "cell_type": "code",
   "execution_count": 58,
   "id": "c414573f",
   "metadata": {
    "execution": {
     "iopub.execute_input": "2022-07-22T12:20:24.900634Z",
     "iopub.status.busy": "2022-07-22T12:20:24.899941Z",
     "iopub.status.idle": "2022-07-22T12:20:24.913218Z",
     "shell.execute_reply": "2022-07-22T12:20:24.912120Z"
    },
    "papermill": {
     "duration": 0.044972,
     "end_time": "2022-07-22T12:20:24.915791",
     "exception": false,
     "start_time": "2022-07-22T12:20:24.870819",
     "status": "completed"
    },
    "tags": []
   },
   "outputs": [],
   "source": [
    "df_final_sub.pred= df_final_sub.pred.astype ('Int64')"
   ]
  },
  {
   "cell_type": "code",
   "execution_count": 59,
   "id": "57587324",
   "metadata": {
    "execution": {
     "iopub.execute_input": "2022-07-22T12:20:24.972747Z",
     "iopub.status.busy": "2022-07-22T12:20:24.972020Z",
     "iopub.status.idle": "2022-07-22T12:20:24.988491Z",
     "shell.execute_reply": "2022-07-22T12:20:24.987613Z"
    },
    "papermill": {
     "duration": 0.047567,
     "end_time": "2022-07-22T12:20:24.990673",
     "exception": false,
     "start_time": "2022-07-22T12:20:24.943106",
     "status": "completed"
    },
    "tags": []
   },
   "outputs": [
    {
     "data": {
      "text/plain": [
       "0    724481\n",
       "1    200140\n",
       "Name: pred, dtype: Int64"
      ]
     },
     "execution_count": 59,
     "metadata": {},
     "output_type": "execute_result"
    }
   ],
   "source": [
    "df_final_sub.pred.value_counts()\n"
   ]
  },
  {
   "cell_type": "code",
   "execution_count": 60,
   "id": "e9804376",
   "metadata": {
    "execution": {
     "iopub.execute_input": "2022-07-22T12:20:25.049409Z",
     "iopub.status.busy": "2022-07-22T12:20:25.048701Z",
     "iopub.status.idle": "2022-07-22T12:20:25.164477Z",
     "shell.execute_reply": "2022-07-22T12:20:25.162846Z"
    },
    "papermill": {
     "duration": 0.148618,
     "end_time": "2022-07-22T12:20:25.167007",
     "exception": false,
     "start_time": "2022-07-22T12:20:25.018389",
     "status": "completed"
    },
    "tags": []
   },
   "outputs": [
    {
     "name": "stdout",
     "output_type": "stream",
     "text": [
      "<class 'pandas.core.frame.DataFrame'>\n",
      "Int64Index: 924621 entries, 8 to 11363783\n",
      "Data columns (total 2 columns):\n",
      " #   Column       Non-Null Count   Dtype \n",
      "---  ------       --------------   ----- \n",
      " 0   customer_ID  924621 non-null  object\n",
      " 1   pred         924621 non-null  Int64 \n",
      "dtypes: Int64(1), object(1)\n",
      "memory usage: 22.0+ MB\n"
     ]
    }
   ],
   "source": [
    "df_final_sub.info()"
   ]
  },
  {
   "cell_type": "code",
   "execution_count": 61,
   "id": "8ab9b52d",
   "metadata": {
    "execution": {
     "iopub.execute_input": "2022-07-22T12:20:25.225099Z",
     "iopub.status.busy": "2022-07-22T12:20:25.224612Z",
     "iopub.status.idle": "2022-07-22T12:20:25.230454Z",
     "shell.execute_reply": "2022-07-22T12:20:25.229630Z"
    },
    "papermill": {
     "duration": 0.038089,
     "end_time": "2022-07-22T12:20:25.232778",
     "exception": false,
     "start_time": "2022-07-22T12:20:25.194689",
     "status": "completed"
    },
    "tags": []
   },
   "outputs": [],
   "source": [
    "\n",
    "df_final_sub.rename(columns = {'pred':'prediction'}, inplace = True)"
   ]
  },
  {
   "cell_type": "code",
   "execution_count": 62,
   "id": "318a6bf7",
   "metadata": {
    "execution": {
     "iopub.execute_input": "2022-07-22T12:20:25.290427Z",
     "iopub.status.busy": "2022-07-22T12:20:25.289714Z",
     "iopub.status.idle": "2022-07-22T12:20:28.980451Z",
     "shell.execute_reply": "2022-07-22T12:20:28.979466Z"
    },
    "papermill": {
     "duration": 3.722574,
     "end_time": "2022-07-22T12:20:28.983104",
     "exception": false,
     "start_time": "2022-07-22T12:20:25.260530",
     "status": "completed"
    },
    "tags": []
   },
   "outputs": [],
   "source": [
    "df_final_sub.to_csv(\"submission.csv\",header=True,index=False)"
   ]
  },
  {
   "cell_type": "code",
   "execution_count": null,
   "id": "f8b321f5",
   "metadata": {
    "papermill": {
     "duration": 0.030084,
     "end_time": "2022-07-22T12:20:29.042270",
     "exception": false,
     "start_time": "2022-07-22T12:20:29.012186",
     "status": "completed"
    },
    "tags": []
   },
   "outputs": [],
   "source": []
  }
 ],
 "metadata": {
  "kernelspec": {
   "display_name": "Python 3",
   "language": "python",
   "name": "python3"
  },
  "language_info": {
   "codemirror_mode": {
    "name": "ipython",
    "version": 3
   },
   "file_extension": ".py",
   "mimetype": "text/x-python",
   "name": "python",
   "nbconvert_exporter": "python",
   "pygments_lexer": "ipython3",
   "version": "3.7.12"
  },
  "papermill": {
   "default_parameters": {},
   "duration": 1690.945064,
   "end_time": "2022-07-22T12:20:30.302032",
   "environment_variables": {},
   "exception": null,
   "input_path": "__notebook__.ipynb",
   "output_path": "__notebook__.ipynb",
   "parameters": {},
   "start_time": "2022-07-22T11:52:19.356968",
   "version": "2.3.4"
  }
 },
 "nbformat": 4,
 "nbformat_minor": 5
}
